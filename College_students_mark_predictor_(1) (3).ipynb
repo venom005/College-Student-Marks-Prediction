{
  "nbformat": 4,
  "nbformat_minor": 0,
  "metadata": {
    "colab": {
      "name": "College_students_mark_predictor (1).ipynb",
      "provenance": [],
      "collapsed_sections": []
    },
    "kernelspec": {
      "name": "python3",
      "display_name": "Python 3"
    }
  },
  "cells": [
    {
      "cell_type": "markdown",
      "metadata": {
        "id": "zThb1CjtYLDh"
      },
      "source": [
        "# Importing Libraries"
      ]
    },
    {
      "cell_type": "code",
      "metadata": {
        "id": "WS0puKznYrbb"
      },
      "source": [
        "#Import libraries\n",
        "import numpy as np\n",
        "import pandas as pd\n",
        "import matplotlib.pyplot as plt"
      ],
      "execution_count": 2,
      "outputs": []
    },
    {
      "cell_type": "markdown",
      "metadata": {
        "id": "mmgkP6sKZfhD"
      },
      "source": [
        "# Load Dataset"
      ]
    },
    {
      "cell_type": "code",
      "metadata": {
        "id": "-fAN8yoEZi3B"
      },
      "source": [
        "path = r\"/content/dset.csv\"\n",
        "df  = pd.read_csv(path)"
      ],
      "execution_count": 3,
      "outputs": []
    },
    {
      "cell_type": "code",
      "metadata": {
        "id": "zouaV_GmaGmq",
        "outputId": "52d3e3f4-58ed-464a-d972-d65b67bc8bf1",
        "colab": {
          "base_uri": "https://localhost:8080/",
          "height": 206
        }
      },
      "source": [
        "df.head()"
      ],
      "execution_count": 4,
      "outputs": [
        {
          "output_type": "execute_result",
          "data": {
            "text/plain": [
              "   study_hours  student_marks\n",
              "0         6.83          78.50\n",
              "1         6.56          76.74\n",
              "2          NaN          78.68\n",
              "3         5.67          71.82\n",
              "4         8.67          84.19"
            ],
            "text/html": [
              "\n",
              "  <div id=\"df-aeb833df-3183-401b-8b61-6f1dd4b7f8f1\">\n",
              "    <div class=\"colab-df-container\">\n",
              "      <div>\n",
              "<style scoped>\n",
              "    .dataframe tbody tr th:only-of-type {\n",
              "        vertical-align: middle;\n",
              "    }\n",
              "\n",
              "    .dataframe tbody tr th {\n",
              "        vertical-align: top;\n",
              "    }\n",
              "\n",
              "    .dataframe thead th {\n",
              "        text-align: right;\n",
              "    }\n",
              "</style>\n",
              "<table border=\"1\" class=\"dataframe\">\n",
              "  <thead>\n",
              "    <tr style=\"text-align: right;\">\n",
              "      <th></th>\n",
              "      <th>study_hours</th>\n",
              "      <th>student_marks</th>\n",
              "    </tr>\n",
              "  </thead>\n",
              "  <tbody>\n",
              "    <tr>\n",
              "      <th>0</th>\n",
              "      <td>6.83</td>\n",
              "      <td>78.50</td>\n",
              "    </tr>\n",
              "    <tr>\n",
              "      <th>1</th>\n",
              "      <td>6.56</td>\n",
              "      <td>76.74</td>\n",
              "    </tr>\n",
              "    <tr>\n",
              "      <th>2</th>\n",
              "      <td>NaN</td>\n",
              "      <td>78.68</td>\n",
              "    </tr>\n",
              "    <tr>\n",
              "      <th>3</th>\n",
              "      <td>5.67</td>\n",
              "      <td>71.82</td>\n",
              "    </tr>\n",
              "    <tr>\n",
              "      <th>4</th>\n",
              "      <td>8.67</td>\n",
              "      <td>84.19</td>\n",
              "    </tr>\n",
              "  </tbody>\n",
              "</table>\n",
              "</div>\n",
              "      <button class=\"colab-df-convert\" onclick=\"convertToInteractive('df-aeb833df-3183-401b-8b61-6f1dd4b7f8f1')\"\n",
              "              title=\"Convert this dataframe to an interactive table.\"\n",
              "              style=\"display:none;\">\n",
              "        \n",
              "  <svg xmlns=\"http://www.w3.org/2000/svg\" height=\"24px\"viewBox=\"0 0 24 24\"\n",
              "       width=\"24px\">\n",
              "    <path d=\"M0 0h24v24H0V0z\" fill=\"none\"/>\n",
              "    <path d=\"M18.56 5.44l.94 2.06.94-2.06 2.06-.94-2.06-.94-.94-2.06-.94 2.06-2.06.94zm-11 1L8.5 8.5l.94-2.06 2.06-.94-2.06-.94L8.5 2.5l-.94 2.06-2.06.94zm10 10l.94 2.06.94-2.06 2.06-.94-2.06-.94-.94-2.06-.94 2.06-2.06.94z\"/><path d=\"M17.41 7.96l-1.37-1.37c-.4-.4-.92-.59-1.43-.59-.52 0-1.04.2-1.43.59L10.3 9.45l-7.72 7.72c-.78.78-.78 2.05 0 2.83L4 21.41c.39.39.9.59 1.41.59.51 0 1.02-.2 1.41-.59l7.78-7.78 2.81-2.81c.8-.78.8-2.07 0-2.86zM5.41 20L4 18.59l7.72-7.72 1.47 1.35L5.41 20z\"/>\n",
              "  </svg>\n",
              "      </button>\n",
              "      \n",
              "  <style>\n",
              "    .colab-df-container {\n",
              "      display:flex;\n",
              "      flex-wrap:wrap;\n",
              "      gap: 12px;\n",
              "    }\n",
              "\n",
              "    .colab-df-convert {\n",
              "      background-color: #E8F0FE;\n",
              "      border: none;\n",
              "      border-radius: 50%;\n",
              "      cursor: pointer;\n",
              "      display: none;\n",
              "      fill: #1967D2;\n",
              "      height: 32px;\n",
              "      padding: 0 0 0 0;\n",
              "      width: 32px;\n",
              "    }\n",
              "\n",
              "    .colab-df-convert:hover {\n",
              "      background-color: #E2EBFA;\n",
              "      box-shadow: 0px 1px 2px rgba(60, 64, 67, 0.3), 0px 1px 3px 1px rgba(60, 64, 67, 0.15);\n",
              "      fill: #174EA6;\n",
              "    }\n",
              "\n",
              "    [theme=dark] .colab-df-convert {\n",
              "      background-color: #3B4455;\n",
              "      fill: #D2E3FC;\n",
              "    }\n",
              "\n",
              "    [theme=dark] .colab-df-convert:hover {\n",
              "      background-color: #434B5C;\n",
              "      box-shadow: 0px 1px 3px 1px rgba(0, 0, 0, 0.15);\n",
              "      filter: drop-shadow(0px 1px 2px rgba(0, 0, 0, 0.3));\n",
              "      fill: #FFFFFF;\n",
              "    }\n",
              "  </style>\n",
              "\n",
              "      <script>\n",
              "        const buttonEl =\n",
              "          document.querySelector('#df-aeb833df-3183-401b-8b61-6f1dd4b7f8f1 button.colab-df-convert');\n",
              "        buttonEl.style.display =\n",
              "          google.colab.kernel.accessAllowed ? 'block' : 'none';\n",
              "\n",
              "        async function convertToInteractive(key) {\n",
              "          const element = document.querySelector('#df-aeb833df-3183-401b-8b61-6f1dd4b7f8f1');\n",
              "          const dataTable =\n",
              "            await google.colab.kernel.invokeFunction('convertToInteractive',\n",
              "                                                     [key], {});\n",
              "          if (!dataTable) return;\n",
              "\n",
              "          const docLinkHtml = 'Like what you see? Visit the ' +\n",
              "            '<a target=\"_blank\" href=https://colab.research.google.com/notebooks/data_table.ipynb>data table notebook</a>'\n",
              "            + ' to learn more about interactive tables.';\n",
              "          element.innerHTML = '';\n",
              "          dataTable['output_type'] = 'display_data';\n",
              "          await google.colab.output.renderOutput(dataTable, element);\n",
              "          const docLink = document.createElement('div');\n",
              "          docLink.innerHTML = docLinkHtml;\n",
              "          element.appendChild(docLink);\n",
              "        }\n",
              "      </script>\n",
              "    </div>\n",
              "  </div>\n",
              "  "
            ]
          },
          "metadata": {},
          "execution_count": 4
        }
      ]
    },
    {
      "cell_type": "code",
      "metadata": {
        "id": "SaOb76vLaOEC",
        "outputId": "bc930b87-7fdf-47ed-f769-2d448aadceae",
        "colab": {
          "base_uri": "https://localhost:8080/",
          "height": 206
        }
      },
      "source": [
        "df.tail()"
      ],
      "execution_count": 5,
      "outputs": [
        {
          "output_type": "execute_result",
          "data": {
            "text/plain": [
              "     study_hours  student_marks\n",
              "382        3.561         19.128\n",
              "383        0.301          5.609\n",
              "384        7.163         41.444\n",
              "385        0.309         12.027\n",
              "386        6.335         32.357"
            ],
            "text/html": [
              "\n",
              "  <div id=\"df-f4d34247-5da2-46de-9650-d95303a428da\">\n",
              "    <div class=\"colab-df-container\">\n",
              "      <div>\n",
              "<style scoped>\n",
              "    .dataframe tbody tr th:only-of-type {\n",
              "        vertical-align: middle;\n",
              "    }\n",
              "\n",
              "    .dataframe tbody tr th {\n",
              "        vertical-align: top;\n",
              "    }\n",
              "\n",
              "    .dataframe thead th {\n",
              "        text-align: right;\n",
              "    }\n",
              "</style>\n",
              "<table border=\"1\" class=\"dataframe\">\n",
              "  <thead>\n",
              "    <tr style=\"text-align: right;\">\n",
              "      <th></th>\n",
              "      <th>study_hours</th>\n",
              "      <th>student_marks</th>\n",
              "    </tr>\n",
              "  </thead>\n",
              "  <tbody>\n",
              "    <tr>\n",
              "      <th>382</th>\n",
              "      <td>3.561</td>\n",
              "      <td>19.128</td>\n",
              "    </tr>\n",
              "    <tr>\n",
              "      <th>383</th>\n",
              "      <td>0.301</td>\n",
              "      <td>5.609</td>\n",
              "    </tr>\n",
              "    <tr>\n",
              "      <th>384</th>\n",
              "      <td>7.163</td>\n",
              "      <td>41.444</td>\n",
              "    </tr>\n",
              "    <tr>\n",
              "      <th>385</th>\n",
              "      <td>0.309</td>\n",
              "      <td>12.027</td>\n",
              "    </tr>\n",
              "    <tr>\n",
              "      <th>386</th>\n",
              "      <td>6.335</td>\n",
              "      <td>32.357</td>\n",
              "    </tr>\n",
              "  </tbody>\n",
              "</table>\n",
              "</div>\n",
              "      <button class=\"colab-df-convert\" onclick=\"convertToInteractive('df-f4d34247-5da2-46de-9650-d95303a428da')\"\n",
              "              title=\"Convert this dataframe to an interactive table.\"\n",
              "              style=\"display:none;\">\n",
              "        \n",
              "  <svg xmlns=\"http://www.w3.org/2000/svg\" height=\"24px\"viewBox=\"0 0 24 24\"\n",
              "       width=\"24px\">\n",
              "    <path d=\"M0 0h24v24H0V0z\" fill=\"none\"/>\n",
              "    <path d=\"M18.56 5.44l.94 2.06.94-2.06 2.06-.94-2.06-.94-.94-2.06-.94 2.06-2.06.94zm-11 1L8.5 8.5l.94-2.06 2.06-.94-2.06-.94L8.5 2.5l-.94 2.06-2.06.94zm10 10l.94 2.06.94-2.06 2.06-.94-2.06-.94-.94-2.06-.94 2.06-2.06.94z\"/><path d=\"M17.41 7.96l-1.37-1.37c-.4-.4-.92-.59-1.43-.59-.52 0-1.04.2-1.43.59L10.3 9.45l-7.72 7.72c-.78.78-.78 2.05 0 2.83L4 21.41c.39.39.9.59 1.41.59.51 0 1.02-.2 1.41-.59l7.78-7.78 2.81-2.81c.8-.78.8-2.07 0-2.86zM5.41 20L4 18.59l7.72-7.72 1.47 1.35L5.41 20z\"/>\n",
              "  </svg>\n",
              "      </button>\n",
              "      \n",
              "  <style>\n",
              "    .colab-df-container {\n",
              "      display:flex;\n",
              "      flex-wrap:wrap;\n",
              "      gap: 12px;\n",
              "    }\n",
              "\n",
              "    .colab-df-convert {\n",
              "      background-color: #E8F0FE;\n",
              "      border: none;\n",
              "      border-radius: 50%;\n",
              "      cursor: pointer;\n",
              "      display: none;\n",
              "      fill: #1967D2;\n",
              "      height: 32px;\n",
              "      padding: 0 0 0 0;\n",
              "      width: 32px;\n",
              "    }\n",
              "\n",
              "    .colab-df-convert:hover {\n",
              "      background-color: #E2EBFA;\n",
              "      box-shadow: 0px 1px 2px rgba(60, 64, 67, 0.3), 0px 1px 3px 1px rgba(60, 64, 67, 0.15);\n",
              "      fill: #174EA6;\n",
              "    }\n",
              "\n",
              "    [theme=dark] .colab-df-convert {\n",
              "      background-color: #3B4455;\n",
              "      fill: #D2E3FC;\n",
              "    }\n",
              "\n",
              "    [theme=dark] .colab-df-convert:hover {\n",
              "      background-color: #434B5C;\n",
              "      box-shadow: 0px 1px 3px 1px rgba(0, 0, 0, 0.15);\n",
              "      filter: drop-shadow(0px 1px 2px rgba(0, 0, 0, 0.3));\n",
              "      fill: #FFFFFF;\n",
              "    }\n",
              "  </style>\n",
              "\n",
              "      <script>\n",
              "        const buttonEl =\n",
              "          document.querySelector('#df-f4d34247-5da2-46de-9650-d95303a428da button.colab-df-convert');\n",
              "        buttonEl.style.display =\n",
              "          google.colab.kernel.accessAllowed ? 'block' : 'none';\n",
              "\n",
              "        async function convertToInteractive(key) {\n",
              "          const element = document.querySelector('#df-f4d34247-5da2-46de-9650-d95303a428da');\n",
              "          const dataTable =\n",
              "            await google.colab.kernel.invokeFunction('convertToInteractive',\n",
              "                                                     [key], {});\n",
              "          if (!dataTable) return;\n",
              "\n",
              "          const docLinkHtml = 'Like what you see? Visit the ' +\n",
              "            '<a target=\"_blank\" href=https://colab.research.google.com/notebooks/data_table.ipynb>data table notebook</a>'\n",
              "            + ' to learn more about interactive tables.';\n",
              "          element.innerHTML = '';\n",
              "          dataTable['output_type'] = 'display_data';\n",
              "          await google.colab.output.renderOutput(dataTable, element);\n",
              "          const docLink = document.createElement('div');\n",
              "          docLink.innerHTML = docLinkHtml;\n",
              "          element.appendChild(docLink);\n",
              "        }\n",
              "      </script>\n",
              "    </div>\n",
              "  </div>\n",
              "  "
            ]
          },
          "metadata": {},
          "execution_count": 5
        }
      ]
    },
    {
      "cell_type": "code",
      "metadata": {
        "id": "iPHxrrTyar65",
        "outputId": "bcfb4e76-1d19-4ae1-ef21-78f089fe3c25",
        "colab": {
          "base_uri": "https://localhost:8080/"
        }
      },
      "source": [
        "df.shape"
      ],
      "execution_count": 6,
      "outputs": [
        {
          "output_type": "execute_result",
          "data": {
            "text/plain": [
              "(387, 2)"
            ]
          },
          "metadata": {},
          "execution_count": 6
        }
      ]
    },
    {
      "cell_type": "markdown",
      "metadata": {
        "id": "_oFCu0V9bJUk"
      },
      "source": [
        "## Discover and visualize the data to gain insights"
      ]
    },
    {
      "cell_type": "code",
      "metadata": {
        "id": "O5pGpQIJazNy",
        "outputId": "8af8f285-9c6d-492e-e237-fdeb1fcfa219",
        "colab": {
          "base_uri": "https://localhost:8080/"
        }
      },
      "source": [
        "df.info()"
      ],
      "execution_count": 7,
      "outputs": [
        {
          "output_type": "stream",
          "name": "stdout",
          "text": [
            "<class 'pandas.core.frame.DataFrame'>\n",
            "RangeIndex: 387 entries, 0 to 386\n",
            "Data columns (total 2 columns):\n",
            " #   Column         Non-Null Count  Dtype  \n",
            "---  ------         --------------  -----  \n",
            " 0   study_hours    382 non-null    float64\n",
            " 1   student_marks  387 non-null    float64\n",
            "dtypes: float64(2)\n",
            "memory usage: 6.2 KB\n"
          ]
        }
      ]
    },
    {
      "cell_type": "code",
      "metadata": {
        "id": "JhpHlRDMbXEm",
        "outputId": "179b9786-ca51-4735-b6fb-44fc729108e4",
        "colab": {
          "base_uri": "https://localhost:8080/",
          "height": 300
        }
      },
      "source": [
        "df.describe()"
      ],
      "execution_count": 8,
      "outputs": [
        {
          "output_type": "execute_result",
          "data": {
            "text/plain": [
              "       study_hours  student_marks\n",
              "count   382.000000     387.000000\n",
              "mean      6.608545      66.017233\n",
              "std       2.326743      26.202398\n",
              "min       0.050000       5.609000\n",
              "25%       5.390000      53.258500\n",
              "50%       6.962000      76.830000\n",
              "75%       8.417500      83.535000\n",
              "max       9.910000      89.600000"
            ],
            "text/html": [
              "\n",
              "  <div id=\"df-6018fb34-034f-4979-b56c-c4699f858b6b\">\n",
              "    <div class=\"colab-df-container\">\n",
              "      <div>\n",
              "<style scoped>\n",
              "    .dataframe tbody tr th:only-of-type {\n",
              "        vertical-align: middle;\n",
              "    }\n",
              "\n",
              "    .dataframe tbody tr th {\n",
              "        vertical-align: top;\n",
              "    }\n",
              "\n",
              "    .dataframe thead th {\n",
              "        text-align: right;\n",
              "    }\n",
              "</style>\n",
              "<table border=\"1\" class=\"dataframe\">\n",
              "  <thead>\n",
              "    <tr style=\"text-align: right;\">\n",
              "      <th></th>\n",
              "      <th>study_hours</th>\n",
              "      <th>student_marks</th>\n",
              "    </tr>\n",
              "  </thead>\n",
              "  <tbody>\n",
              "    <tr>\n",
              "      <th>count</th>\n",
              "      <td>382.000000</td>\n",
              "      <td>387.000000</td>\n",
              "    </tr>\n",
              "    <tr>\n",
              "      <th>mean</th>\n",
              "      <td>6.608545</td>\n",
              "      <td>66.017233</td>\n",
              "    </tr>\n",
              "    <tr>\n",
              "      <th>std</th>\n",
              "      <td>2.326743</td>\n",
              "      <td>26.202398</td>\n",
              "    </tr>\n",
              "    <tr>\n",
              "      <th>min</th>\n",
              "      <td>0.050000</td>\n",
              "      <td>5.609000</td>\n",
              "    </tr>\n",
              "    <tr>\n",
              "      <th>25%</th>\n",
              "      <td>5.390000</td>\n",
              "      <td>53.258500</td>\n",
              "    </tr>\n",
              "    <tr>\n",
              "      <th>50%</th>\n",
              "      <td>6.962000</td>\n",
              "      <td>76.830000</td>\n",
              "    </tr>\n",
              "    <tr>\n",
              "      <th>75%</th>\n",
              "      <td>8.417500</td>\n",
              "      <td>83.535000</td>\n",
              "    </tr>\n",
              "    <tr>\n",
              "      <th>max</th>\n",
              "      <td>9.910000</td>\n",
              "      <td>89.600000</td>\n",
              "    </tr>\n",
              "  </tbody>\n",
              "</table>\n",
              "</div>\n",
              "      <button class=\"colab-df-convert\" onclick=\"convertToInteractive('df-6018fb34-034f-4979-b56c-c4699f858b6b')\"\n",
              "              title=\"Convert this dataframe to an interactive table.\"\n",
              "              style=\"display:none;\">\n",
              "        \n",
              "  <svg xmlns=\"http://www.w3.org/2000/svg\" height=\"24px\"viewBox=\"0 0 24 24\"\n",
              "       width=\"24px\">\n",
              "    <path d=\"M0 0h24v24H0V0z\" fill=\"none\"/>\n",
              "    <path d=\"M18.56 5.44l.94 2.06.94-2.06 2.06-.94-2.06-.94-.94-2.06-.94 2.06-2.06.94zm-11 1L8.5 8.5l.94-2.06 2.06-.94-2.06-.94L8.5 2.5l-.94 2.06-2.06.94zm10 10l.94 2.06.94-2.06 2.06-.94-2.06-.94-.94-2.06-.94 2.06-2.06.94z\"/><path d=\"M17.41 7.96l-1.37-1.37c-.4-.4-.92-.59-1.43-.59-.52 0-1.04.2-1.43.59L10.3 9.45l-7.72 7.72c-.78.78-.78 2.05 0 2.83L4 21.41c.39.39.9.59 1.41.59.51 0 1.02-.2 1.41-.59l7.78-7.78 2.81-2.81c.8-.78.8-2.07 0-2.86zM5.41 20L4 18.59l7.72-7.72 1.47 1.35L5.41 20z\"/>\n",
              "  </svg>\n",
              "      </button>\n",
              "      \n",
              "  <style>\n",
              "    .colab-df-container {\n",
              "      display:flex;\n",
              "      flex-wrap:wrap;\n",
              "      gap: 12px;\n",
              "    }\n",
              "\n",
              "    .colab-df-convert {\n",
              "      background-color: #E8F0FE;\n",
              "      border: none;\n",
              "      border-radius: 50%;\n",
              "      cursor: pointer;\n",
              "      display: none;\n",
              "      fill: #1967D2;\n",
              "      height: 32px;\n",
              "      padding: 0 0 0 0;\n",
              "      width: 32px;\n",
              "    }\n",
              "\n",
              "    .colab-df-convert:hover {\n",
              "      background-color: #E2EBFA;\n",
              "      box-shadow: 0px 1px 2px rgba(60, 64, 67, 0.3), 0px 1px 3px 1px rgba(60, 64, 67, 0.15);\n",
              "      fill: #174EA6;\n",
              "    }\n",
              "\n",
              "    [theme=dark] .colab-df-convert {\n",
              "      background-color: #3B4455;\n",
              "      fill: #D2E3FC;\n",
              "    }\n",
              "\n",
              "    [theme=dark] .colab-df-convert:hover {\n",
              "      background-color: #434B5C;\n",
              "      box-shadow: 0px 1px 3px 1px rgba(0, 0, 0, 0.15);\n",
              "      filter: drop-shadow(0px 1px 2px rgba(0, 0, 0, 0.3));\n",
              "      fill: #FFFFFF;\n",
              "    }\n",
              "  </style>\n",
              "\n",
              "      <script>\n",
              "        const buttonEl =\n",
              "          document.querySelector('#df-6018fb34-034f-4979-b56c-c4699f858b6b button.colab-df-convert');\n",
              "        buttonEl.style.display =\n",
              "          google.colab.kernel.accessAllowed ? 'block' : 'none';\n",
              "\n",
              "        async function convertToInteractive(key) {\n",
              "          const element = document.querySelector('#df-6018fb34-034f-4979-b56c-c4699f858b6b');\n",
              "          const dataTable =\n",
              "            await google.colab.kernel.invokeFunction('convertToInteractive',\n",
              "                                                     [key], {});\n",
              "          if (!dataTable) return;\n",
              "\n",
              "          const docLinkHtml = 'Like what you see? Visit the ' +\n",
              "            '<a target=\"_blank\" href=https://colab.research.google.com/notebooks/data_table.ipynb>data table notebook</a>'\n",
              "            + ' to learn more about interactive tables.';\n",
              "          element.innerHTML = '';\n",
              "          dataTable['output_type'] = 'display_data';\n",
              "          await google.colab.output.renderOutput(dataTable, element);\n",
              "          const docLink = document.createElement('div');\n",
              "          docLink.innerHTML = docLinkHtml;\n",
              "          element.appendChild(docLink);\n",
              "        }\n",
              "      </script>\n",
              "    </div>\n",
              "  </div>\n",
              "  "
            ]
          },
          "metadata": {},
          "execution_count": 8
        }
      ]
    },
    {
      "cell_type": "code",
      "metadata": {
        "id": "BnPeWCuzb3p4",
        "outputId": "d1cbb005-a18f-4e7a-92fb-72847bd96ac4",
        "colab": {
          "base_uri": "https://localhost:8080/",
          "height": 295
        }
      },
      "source": [
        "plt.scatter(x =df.study_hours, y = df.student_marks)\n",
        "plt.xlabel(\"Students Study Hours\")\n",
        "plt.ylabel(\"Students marks\")\n",
        "plt.title(\"Scatter Plot of Students Study Hours vs Students marks\")\n",
        "plt.show()"
      ],
      "execution_count": 9,
      "outputs": [
        {
          "output_type": "display_data",
          "data": {
            "text/plain": [
              "<Figure size 432x288 with 1 Axes>"
            ],
            "image/png": "[encoded data removed]"
          },
          "metadata": {
            "needs_background": "light"
          }
        }
      ]
    },
    {
      "cell_type": "markdown",
      "metadata": {
        "id": "nIKXoXc2dO_t"
      },
      "source": [
        "## Prepare the data for Machine Learning algorithms "
      ]
    },
    {
      "cell_type": "code",
      "metadata": {
        "id": "btJR8iIUc5Yk"
      },
      "source": [
        "# Data Cleaning"
      ],
      "execution_count": 10,
      "outputs": []
    },
    {
      "cell_type": "code",
      "metadata": {
        "id": "JqGacr14dbHv",
        "outputId": "fee6bf82-08f9-44d5-bca9-b7ddff282901",
        "colab": {
          "base_uri": "https://localhost:8080/"
        }
      },
      "source": [
        "df.isnull().sum()"
      ],
      "execution_count": 11,
      "outputs": [
        {
          "output_type": "execute_result",
          "data": {
            "text/plain": [
              "study_hours      5\n",
              "student_marks    0\n",
              "dtype: int64"
            ]
          },
          "metadata": {},
          "execution_count": 11
        }
      ]
    },
    {
      "cell_type": "code",
      "metadata": {
        "id": "XVXS0f4ldiPS",
        "outputId": "fc2d283d-9449-45b5-e18b-253adfd8b6c8",
        "colab": {
          "base_uri": "https://localhost:8080/"
        }
      },
      "source": [
        "df.mean()"
      ],
      "execution_count": 12,
      "outputs": [
        {
          "output_type": "execute_result",
          "data": {
            "text/plain": [
              "study_hours       6.608545\n",
              "student_marks    66.017233\n",
              "dtype: float64"
            ]
          },
          "metadata": {},
          "execution_count": 12
        }
      ]
    },
    {
      "cell_type": "code",
      "metadata": {
        "id": "76MxlNMEd9zI"
      },
      "source": [
        "df2 = df.fillna(df.mean())"
      ],
      "execution_count": 13,
      "outputs": []
    },
    {
      "cell_type": "code",
      "metadata": {
        "id": "bcEM6aHpeQk7",
        "outputId": "91ce375c-729b-463f-8a79-180d7b7d07ab",
        "colab": {
          "base_uri": "https://localhost:8080/"
        }
      },
      "source": [
        "df2.isnull().sum()"
      ],
      "execution_count": 14,
      "outputs": [
        {
          "output_type": "execute_result",
          "data": {
            "text/plain": [
              "study_hours      0\n",
              "student_marks    0\n",
              "dtype: int64"
            ]
          },
          "metadata": {},
          "execution_count": 14
        }
      ]
    },
    {
      "cell_type": "code",
      "metadata": {
        "id": "kE3aVJqteUK-",
        "outputId": "4e1248cb-a4ae-42b9-dfa9-4646421f3b30",
        "colab": {
          "base_uri": "https://localhost:8080/",
          "height": 206
        }
      },
      "source": [
        "df2.head()"
      ],
      "execution_count": 15,
      "outputs": [
        {
          "output_type": "execute_result",
          "data": {
            "text/plain": [
              "   study_hours  student_marks\n",
              "0     6.830000          78.50\n",
              "1     6.560000          76.74\n",
              "2     6.608545          78.68\n",
              "3     5.670000          71.82\n",
              "4     8.670000          84.19"
            ],
            "text/html": [
              "\n",
              "  <div id=\"df-ccc93904-49ee-4f3c-ad59-cabbab26be41\">\n",
              "    <div class=\"colab-df-container\">\n",
              "      <div>\n",
              "<style scoped>\n",
              "    .dataframe tbody tr th:only-of-type {\n",
              "        vertical-align: middle;\n",
              "    }\n",
              "\n",
              "    .dataframe tbody tr th {\n",
              "        vertical-align: top;\n",
              "    }\n",
              "\n",
              "    .dataframe thead th {\n",
              "        text-align: right;\n",
              "    }\n",
              "</style>\n",
              "<table border=\"1\" class=\"dataframe\">\n",
              "  <thead>\n",
              "    <tr style=\"text-align: right;\">\n",
              "      <th></th>\n",
              "      <th>study_hours</th>\n",
              "      <th>student_marks</th>\n",
              "    </tr>\n",
              "  </thead>\n",
              "  <tbody>\n",
              "    <tr>\n",
              "      <th>0</th>\n",
              "      <td>6.830000</td>\n",
              "      <td>78.50</td>\n",
              "    </tr>\n",
              "    <tr>\n",
              "      <th>1</th>\n",
              "      <td>6.560000</td>\n",
              "      <td>76.74</td>\n",
              "    </tr>\n",
              "    <tr>\n",
              "      <th>2</th>\n",
              "      <td>6.608545</td>\n",
              "      <td>78.68</td>\n",
              "    </tr>\n",
              "    <tr>\n",
              "      <th>3</th>\n",
              "      <td>5.670000</td>\n",
              "      <td>71.82</td>\n",
              "    </tr>\n",
              "    <tr>\n",
              "      <th>4</th>\n",
              "      <td>8.670000</td>\n",
              "      <td>84.19</td>\n",
              "    </tr>\n",
              "  </tbody>\n",
              "</table>\n",
              "</div>\n",
              "      <button class=\"colab-df-convert\" onclick=\"convertToInteractive('df-ccc93904-49ee-4f3c-ad59-cabbab26be41')\"\n",
              "              title=\"Convert this dataframe to an interactive table.\"\n",
              "              style=\"display:none;\">\n",
              "        \n",
              "  <svg xmlns=\"http://www.w3.org/2000/svg\" height=\"24px\"viewBox=\"0 0 24 24\"\n",
              "       width=\"24px\">\n",
              "    <path d=\"M0 0h24v24H0V0z\" fill=\"none\"/>\n",
              "    <path d=\"M18.56 5.44l.94 2.06.94-2.06 2.06-.94-2.06-.94-.94-2.06-.94 2.06-2.06.94zm-11 1L8.5 8.5l.94-2.06 2.06-.94-2.06-.94L8.5 2.5l-.94 2.06-2.06.94zm10 10l.94 2.06.94-2.06 2.06-.94-2.06-.94-.94-2.06-.94 2.06-2.06.94z\"/><path d=\"M17.41 7.96l-1.37-1.37c-.4-.4-.92-.59-1.43-.59-.52 0-1.04.2-1.43.59L10.3 9.45l-7.72 7.72c-.78.78-.78 2.05 0 2.83L4 21.41c.39.39.9.59 1.41.59.51 0 1.02-.2 1.41-.59l7.78-7.78 2.81-2.81c.8-.78.8-2.07 0-2.86zM5.41 20L4 18.59l7.72-7.72 1.47 1.35L5.41 20z\"/>\n",
              "  </svg>\n",
              "      </button>\n",
              "      \n",
              "  <style>\n",
              "    .colab-df-container {\n",
              "      display:flex;\n",
              "      flex-wrap:wrap;\n",
              "      gap: 12px;\n",
              "    }\n",
              "\n",
              "    .colab-df-convert {\n",
              "      background-color: #E8F0FE;\n",
              "      border: none;\n",
              "      border-radius: 50%;\n",
              "      cursor: pointer;\n",
              "      display: none;\n",
              "      fill: #1967D2;\n",
              "      height: 32px;\n",
              "      padding: 0 0 0 0;\n",
              "      width: 32px;\n",
              "    }\n",
              "\n",
              "    .colab-df-convert:hover {\n",
              "      background-color: #E2EBFA;\n",
              "      box-shadow: 0px 1px 2px rgba(60, 64, 67, 0.3), 0px 1px 3px 1px rgba(60, 64, 67, 0.15);\n",
              "      fill: #174EA6;\n",
              "    }\n",
              "\n",
              "    [theme=dark] .colab-df-convert {\n",
              "      background-color: #3B4455;\n",
              "      fill: #D2E3FC;\n",
              "    }\n",
              "\n",
              "    [theme=dark] .colab-df-convert:hover {\n",
              "      background-color: #434B5C;\n",
              "      box-shadow: 0px 1px 3px 1px rgba(0, 0, 0, 0.15);\n",
              "      filter: drop-shadow(0px 1px 2px rgba(0, 0, 0, 0.3));\n",
              "      fill: #FFFFFF;\n",
              "    }\n",
              "  </style>\n",
              "\n",
              "      <script>\n",
              "        const buttonEl =\n",
              "          document.querySelector('#df-ccc93904-49ee-4f3c-ad59-cabbab26be41 button.colab-df-convert');\n",
              "        buttonEl.style.display =\n",
              "          google.colab.kernel.accessAllowed ? 'block' : 'none';\n",
              "\n",
              "        async function convertToInteractive(key) {\n",
              "          const element = document.querySelector('#df-ccc93904-49ee-4f3c-ad59-cabbab26be41');\n",
              "          const dataTable =\n",
              "            await google.colab.kernel.invokeFunction('convertToInteractive',\n",
              "                                                     [key], {});\n",
              "          if (!dataTable) return;\n",
              "\n",
              "          const docLinkHtml = 'Like what you see? Visit the ' +\n",
              "            '<a target=\"_blank\" href=https://colab.research.google.com/notebooks/data_table.ipynb>data table notebook</a>'\n",
              "            + ' to learn more about interactive tables.';\n",
              "          element.innerHTML = '';\n",
              "          dataTable['output_type'] = 'display_data';\n",
              "          await google.colab.output.renderOutput(dataTable, element);\n",
              "          const docLink = document.createElement('div');\n",
              "          docLink.innerHTML = docLinkHtml;\n",
              "          element.appendChild(docLink);\n",
              "        }\n",
              "      </script>\n",
              "    </div>\n",
              "  </div>\n",
              "  "
            ]
          },
          "metadata": {},
          "execution_count": 15
        }
      ]
    },
    {
      "cell_type": "code",
      "metadata": {
        "id": "4qvC8mY-eZGQ"
      },
      "source": [
        "# split dataset"
      ],
      "execution_count": 16,
      "outputs": []
    },
    {
      "cell_type": "code",
      "metadata": {
        "id": "-hXEvqB_ervH",
        "outputId": "c2bff277-7476-4d1d-832d-70225e1c6207",
        "colab": {
          "base_uri": "https://localhost:8080/"
        }
      },
      "source": [
        "X = df2.drop(\"student_marks\", axis = \"columns\")\n",
        "y = df2.drop(\"study_hours\", axis = \"columns\")\n",
        "print(\"shape of X = \", X.shape)\n",
        "print(\"shape of y = \", y.shape)"
      ],
      "execution_count": 17,
      "outputs": [
        {
          "output_type": "stream",
          "name": "stdout",
          "text": [
            "shape of X =  (387, 1)\n",
            "shape of y =  (387, 1)\n"
          ]
        }
      ]
    },
    {
      "cell_type": "code",
      "metadata": {
        "id": "_6ZIrQgsfTMT",
        "outputId": "f665e4a3-64f1-450c-e655-28fbc0dc73d8",
        "colab": {
          "base_uri": "https://localhost:8080/"
        }
      },
      "source": [
        "from sklearn.model_selection import train_test_split\n",
        "X_train, X_test,y_train,y_test = train_test_split(X,y, test_size = 0.2, random_state=51)\n",
        "print(\"shape of X_train = \", X_train.shape)\n",
        "print(\"shape of y_train = \", y_train.shape)\n",
        "print(\"shape of X_test = \", X_test.shape)\n",
        "print(\"shape of y_test = \", y_test.shape)"
      ],
      "execution_count": 18,
      "outputs": [
        {
          "output_type": "stream",
          "name": "stdout",
          "text": [
            "shape of X_train =  (309, 1)\n",
            "shape of y_train =  (309, 1)\n",
            "shape of X_test =  (78, 1)\n",
            "shape of y_test =  (78, 1)\n"
          ]
        }
      ]
    },
    {
      "cell_type": "markdown",
      "metadata": {
        "id": "1rNWhS0HhD-2"
      },
      "source": [
        "# Select a model and train it"
      ]
    },
    {
      "cell_type": "code",
      "metadata": {
        "id": "MVgWJHfjgxlJ"
      },
      "source": [
        " # y = m * x + c\n",
        " from sklearn.linear_model import LinearRegression\n",
        " lr = LinearRegression()"
      ],
      "execution_count": 58,
      "outputs": []
    },
    {
      "cell_type": "code",
      "metadata": {
        "id": "pfH2sdLaiLz_",
        "outputId": "9b2274ea-6cd8-4782-8c30-3d1136371b5d",
        "colab": {
          "base_uri": "https://localhost:8080/"
        }
      },
      "source": [
        "lr.fit(X_train,y_train)"
      ],
      "execution_count": 59,
      "outputs": [
        {
          "output_type": "execute_result",
          "data": {
            "text/plain": [
              "LinearRegression()"
            ]
          },
          "metadata": {},
          "execution_count": 59
        }
      ]
    },
    {
      "cell_type": "code",
      "metadata": {
        "id": "eBfxeIeEiaOB",
        "outputId": "adf559cc-4b13-43cd-9358-36c8804eb5c7",
        "colab": {
          "base_uri": "https://localhost:8080/"
        }
      },
      "source": [
        "lr.coef_"
      ],
      "execution_count": 21,
      "outputs": [
        {
          "output_type": "execute_result",
          "data": {
            "text/plain": [
              "array([[9.52842314]])"
            ]
          },
          "metadata": {},
          "execution_count": 21
        }
      ]
    },
    {
      "cell_type": "code",
      "metadata": {
        "id": "rtDBlJpVjLDj",
        "outputId": "30fa4fa2-4fce-4da1-ca27-4d0feedb278d",
        "colab": {
          "base_uri": "https://localhost:8080/"
        }
      },
      "source": [
        "lr.intercept_"
      ],
      "execution_count": 22,
      "outputs": [
        {
          "output_type": "execute_result",
          "data": {
            "text/plain": [
              "array([2.97386968])"
            ]
          },
          "metadata": {},
          "execution_count": 22
        }
      ]
    },
    {
      "cell_type": "code",
      "metadata": {
        "id": "bm6MKaI1jR2s",
        "outputId": "001e7d38-8c2b-48dc-9baf-2cbcafb027f6",
        "colab": {
          "base_uri": "https://localhost:8080/"
        }
      },
      "source": [
        "m = 3.93\n",
        "c = 50.44\n",
        "y  = m * 4 + c \n",
        "y"
      ],
      "execution_count": 23,
      "outputs": [
        {
          "output_type": "execute_result",
          "data": {
            "text/plain": [
              "66.16"
            ]
          },
          "metadata": {},
          "execution_count": 23
        }
      ]
    },
    {
      "cell_type": "code",
      "metadata": {
        "id": "1CZSt9CQjmHg",
        "outputId": "314f9e02-9453-4509-d479-88de9a009f0a",
        "colab": {
          "base_uri": "https://localhost:8080/"
        }
      },
      "source": [
        "lr.predict([[5]])[0][0].round(2)"
      ],
      "execution_count": 24,
      "outputs": [
        {
          "output_type": "stream",
          "name": "stderr",
          "text": [
            "/usr/local/lib/python3.7/dist-packages/sklearn/base.py:451: UserWarning: X does not have valid feature names, but LinearRegression was fitted with feature names\n",
            "  \"X does not have valid feature names, but\"\n"
          ]
        },
        {
          "output_type": "execute_result",
          "data": {
            "text/plain": [
              "50.62"
            ]
          },
          "metadata": {},
          "execution_count": 24
        }
      ]
    },
    {
      "cell_type": "code",
      "metadata": {
        "id": "Ws6AmyL8jxKY",
        "outputId": "e8d84134-2c9e-46cb-f8d5-28ecebfedb67",
        "colab": {
          "base_uri": "https://localhost:8080/"
        }
      },
      "source": [
        "y_pred  = lr.predict(X_test)\n",
        "y_pred\n"
      ],
      "execution_count": 25,
      "outputs": [
        {
          "output_type": "execute_result",
          "data": {
            "text/plain": [
              "array([[90.06365722],\n",
              "       [48.51020389],\n",
              "       [17.80962451],\n",
              "       [78.72483368],\n",
              "       [66.84289002],\n",
              "       [30.68252418],\n",
              "       [72.62664287],\n",
              "       [59.3821347 ],\n",
              "       [78.72483368],\n",
              "       [85.96643527],\n",
              "       [93.68445802],\n",
              "       [24.52716283],\n",
              "       [82.15506601],\n",
              "       [66.43316782],\n",
              "       [54.99906005],\n",
              "       [89.01553068],\n",
              "       [91.207068  ],\n",
              "       [65.7661782 ],\n",
              "       [74.2464748 ],\n",
              "       [65.09918858],\n",
              "       [67.48129437],\n",
              "       [93.58917379],\n",
              "       [75.86630674],\n",
              "       [56.80946045],\n",
              "       [69.48226323],\n",
              "       [77.40038286],\n",
              "       [62.03103633],\n",
              "       [ 4.30784892],\n",
              "       [81.67864485],\n",
              "       [67.29072591],\n",
              "       [85.49001411],\n",
              "       [43.56495227],\n",
              "       [89.3966676 ],\n",
              "       [80.43994985],\n",
              "       [21.5924085 ],\n",
              "       [ 7.81430863],\n",
              "       [18.49567098],\n",
              "       [72.15022171],\n",
              "       [58.61986084],\n",
              "       [92.54104724],\n",
              "       [52.71223849],\n",
              "       [16.38036104],\n",
              "       [55.7613339 ],\n",
              "       [80.72580254],\n",
              "       [68.05299976],\n",
              "       [70.62567401],\n",
              "       [58.14343969],\n",
              "       [54.33207043],\n",
              "       [51.28297502],\n",
              "       [92.82689993],\n",
              "       [37.19043719],\n",
              "       [88.63439375],\n",
              "       [53.85564927],\n",
              "       [76.34272789],\n",
              "       [78.72483368],\n",
              "       [91.01649954],\n",
              "       [61.79282575],\n",
              "       [62.4312301 ],\n",
              "       [88.25325682],\n",
              "       [89.6825203 ],\n",
              "       [ 7.00439267],\n",
              "       [91.30235223],\n",
              "       [ 8.21450241],\n",
              "       [82.91733986],\n",
              "       [58.14343969],\n",
              "       [65.00390435],\n",
              "       [72.36937544],\n",
              "       [89.96837299],\n",
              "       [83.10790833],\n",
              "       [85.49001411],\n",
              "       [78.05784406],\n",
              "       [80.05881292],\n",
              "       [42.32625727],\n",
              "       [10.32028392],\n",
              "       [87.5862672 ],\n",
              "       [75.58045404],\n",
              "       [90.15894145],\n",
              "       [52.90280696]])"
            ]
          },
          "metadata": {},
          "execution_count": 25
        }
      ]
    },
    {
      "cell_type": "code",
      "metadata": {
        "id": "EoYmzFW-kRaz",
        "outputId": "cfb63300-b2b1-4332-82e4-a9c834a2ea77",
        "colab": {
          "base_uri": "https://localhost:8080/",
          "height": 424
        }
      },
      "source": [
        "pd.DataFrame(np.c_[X_test, y_test, y_pred], columns = [\"study_hours\", \"student_marks_original\",\"student_marks_predicted\"])"
      ],
      "execution_count": 26,
      "outputs": [
        {
          "output_type": "execute_result",
          "data": {
            "text/plain": [
              "    study_hours  student_marks_original  student_marks_predicted\n",
              "0         9.140                  89.140                90.063657\n",
              "1         4.779                  22.701                48.510204\n",
              "2         1.557                  10.429                17.809625\n",
              "3         7.950                  82.030                78.724834\n",
              "4         6.703                  40.602                66.842890\n",
              "..          ...                     ...                      ...\n",
              "73        0.771                   7.892                10.320284\n",
              "74        8.880                  83.640                87.586267\n",
              "75        7.620                  79.530                75.580454\n",
              "76        9.150                  89.150                90.158941\n",
              "77        5.240                  70.780                52.902807\n",
              "\n",
              "[78 rows x 3 columns]"
            ],
            "text/html": [
              "\n",
              "  <div id=\"df-2688c1cd-afd1-4de9-901d-1da129a218dc\">\n",
              "    <div class=\"colab-df-container\">\n",
              "      <div>\n",
              "<style scoped>\n",
              "    .dataframe tbody tr th:only-of-type {\n",
              "        vertical-align: middle;\n",
              "    }\n",
              "\n",
              "    .dataframe tbody tr th {\n",
              "        vertical-align: top;\n",
              "    }\n",
              "\n",
              "    .dataframe thead th {\n",
              "        text-align: right;\n",
              "    }\n",
              "</style>\n",
              "<table border=\"1\" class=\"dataframe\">\n",
              "  <thead>\n",
              "    <tr style=\"text-align: right;\">\n",
              "      <th></th>\n",
              "      <th>study_hours</th>\n",
              "      <th>student_marks_original</th>\n",
              "      <th>student_marks_predicted</th>\n",
              "    </tr>\n",
              "  </thead>\n",
              "  <tbody>\n",
              "    <tr>\n",
              "      <th>0</th>\n",
              "      <td>9.140</td>\n",
              "      <td>89.140</td>\n",
              "      <td>90.063657</td>\n",
              "    </tr>\n",
              "    <tr>\n",
              "      <th>1</th>\n",
              "      <td>4.779</td>\n",
              "      <td>22.701</td>\n",
              "      <td>48.510204</td>\n",
              "    </tr>\n",
              "    <tr>\n",
              "      <th>2</th>\n",
              "      <td>1.557</td>\n",
              "      <td>10.429</td>\n",
              "      <td>17.809625</td>\n",
              "    </tr>\n",
              "    <tr>\n",
              "      <th>3</th>\n",
              "      <td>7.950</td>\n",
              "      <td>82.030</td>\n",
              "      <td>78.724834</td>\n",
              "    </tr>\n",
              "    <tr>\n",
              "      <th>4</th>\n",
              "      <td>6.703</td>\n",
              "      <td>40.602</td>\n",
              "      <td>66.842890</td>\n",
              "    </tr>\n",
              "    <tr>\n",
              "      <th>...</th>\n",
              "      <td>...</td>\n",
              "      <td>...</td>\n",
              "      <td>...</td>\n",
              "    </tr>\n",
              "    <tr>\n",
              "      <th>73</th>\n",
              "      <td>0.771</td>\n",
              "      <td>7.892</td>\n",
              "      <td>10.320284</td>\n",
              "    </tr>\n",
              "    <tr>\n",
              "      <th>74</th>\n",
              "      <td>8.880</td>\n",
              "      <td>83.640</td>\n",
              "      <td>87.586267</td>\n",
              "    </tr>\n",
              "    <tr>\n",
              "      <th>75</th>\n",
              "      <td>7.620</td>\n",
              "      <td>79.530</td>\n",
              "      <td>75.580454</td>\n",
              "    </tr>\n",
              "    <tr>\n",
              "      <th>76</th>\n",
              "      <td>9.150</td>\n",
              "      <td>89.150</td>\n",
              "      <td>90.158941</td>\n",
              "    </tr>\n",
              "    <tr>\n",
              "      <th>77</th>\n",
              "      <td>5.240</td>\n",
              "      <td>70.780</td>\n",
              "      <td>52.902807</td>\n",
              "    </tr>\n",
              "  </tbody>\n",
              "</table>\n",
              "<p>78 rows × 3 columns</p>\n",
              "</div>\n",
              "      <button class=\"colab-df-convert\" onclick=\"convertToInteractive('df-2688c1cd-afd1-4de9-901d-1da129a218dc')\"\n",
              "              title=\"Convert this dataframe to an interactive table.\"\n",
              "              style=\"display:none;\">\n",
              "        \n",
              "  <svg xmlns=\"http://www.w3.org/2000/svg\" height=\"24px\"viewBox=\"0 0 24 24\"\n",
              "       width=\"24px\">\n",
              "    <path d=\"M0 0h24v24H0V0z\" fill=\"none\"/>\n",
              "    <path d=\"M18.56 5.44l.94 2.06.94-2.06 2.06-.94-2.06-.94-.94-2.06-.94 2.06-2.06.94zm-11 1L8.5 8.5l.94-2.06 2.06-.94-2.06-.94L8.5 2.5l-.94 2.06-2.06.94zm10 10l.94 2.06.94-2.06 2.06-.94-2.06-.94-.94-2.06-.94 2.06-2.06.94z\"/><path d=\"M17.41 7.96l-1.37-1.37c-.4-.4-.92-.59-1.43-.59-.52 0-1.04.2-1.43.59L10.3 9.45l-7.72 7.72c-.78.78-.78 2.05 0 2.83L4 21.41c.39.39.9.59 1.41.59.51 0 1.02-.2 1.41-.59l7.78-7.78 2.81-2.81c.8-.78.8-2.07 0-2.86zM5.41 20L4 18.59l7.72-7.72 1.47 1.35L5.41 20z\"/>\n",
              "  </svg>\n",
              "      </button>\n",
              "      \n",
              "  <style>\n",
              "    .colab-df-container {\n",
              "      display:flex;\n",
              "      flex-wrap:wrap;\n",
              "      gap: 12px;\n",
              "    }\n",
              "\n",
              "    .colab-df-convert {\n",
              "      background-color: #E8F0FE;\n",
              "      border: none;\n",
              "      border-radius: 50%;\n",
              "      cursor: pointer;\n",
              "      display: none;\n",
              "      fill: #1967D2;\n",
              "      height: 32px;\n",
              "      padding: 0 0 0 0;\n",
              "      width: 32px;\n",
              "    }\n",
              "\n",
              "    .colab-df-convert:hover {\n",
              "      background-color: #E2EBFA;\n",
              "      box-shadow: 0px 1px 2px rgba(60, 64, 67, 0.3), 0px 1px 3px 1px rgba(60, 64, 67, 0.15);\n",
              "      fill: #174EA6;\n",
              "    }\n",
              "\n",
              "    [theme=dark] .colab-df-convert {\n",
              "      background-color: #3B4455;\n",
              "      fill: #D2E3FC;\n",
              "    }\n",
              "\n",
              "    [theme=dark] .colab-df-convert:hover {\n",
              "      background-color: #434B5C;\n",
              "      box-shadow: 0px 1px 3px 1px rgba(0, 0, 0, 0.15);\n",
              "      filter: drop-shadow(0px 1px 2px rgba(0, 0, 0, 0.3));\n",
              "      fill: #FFFFFF;\n",
              "    }\n",
              "  </style>\n",
              "\n",
              "      <script>\n",
              "        const buttonEl =\n",
              "          document.querySelector('#df-2688c1cd-afd1-4de9-901d-1da129a218dc button.colab-df-convert');\n",
              "        buttonEl.style.display =\n",
              "          google.colab.kernel.accessAllowed ? 'block' : 'none';\n",
              "\n",
              "        async function convertToInteractive(key) {\n",
              "          const element = document.querySelector('#df-2688c1cd-afd1-4de9-901d-1da129a218dc');\n",
              "          const dataTable =\n",
              "            await google.colab.kernel.invokeFunction('convertToInteractive',\n",
              "                                                     [key], {});\n",
              "          if (!dataTable) return;\n",
              "\n",
              "          const docLinkHtml = 'Like what you see? Visit the ' +\n",
              "            '<a target=\"_blank\" href=https://colab.research.google.com/notebooks/data_table.ipynb>data table notebook</a>'\n",
              "            + ' to learn more about interactive tables.';\n",
              "          element.innerHTML = '';\n",
              "          dataTable['output_type'] = 'display_data';\n",
              "          await google.colab.output.renderOutput(dataTable, element);\n",
              "          const docLink = document.createElement('div');\n",
              "          docLink.innerHTML = docLinkHtml;\n",
              "          element.appendChild(docLink);\n",
              "        }\n",
              "      </script>\n",
              "    </div>\n",
              "  </div>\n",
              "  "
            ]
          },
          "metadata": {},
          "execution_count": 26
        }
      ]
    },
    {
      "cell_type": "markdown",
      "metadata": {
        "id": "7yBuh2QdlcYD"
      },
      "source": [
        "## Fine-tune your model"
      ]
    },
    {
      "cell_type": "code",
      "metadata": {
        "id": "GTMEk4FFkzio",
        "outputId": "29aa61be-ee7e-40ba-e8ad-9fbe120bdf87",
        "colab": {
          "base_uri": "https://localhost:8080/"
        }
      },
      "source": [
        "\n",
        "lr.score(X_test,y_test)\n"
      ],
      "execution_count": 27,
      "outputs": [
        {
          "output_type": "execute_result",
          "data": {
            "text/plain": [
              "0.8159074226676759"
            ]
          },
          "metadata": {},
          "execution_count": 27
        }
      ]
    },
    {
      "cell_type": "code",
      "source": [
        "cutoff=0.7\n",
        "y_pred_classes=np.zeros_like(y_pred)\n",
        "y_pred_classes[y_pred>cutoff]=1\n",
        "y_test_classes=np.zeros_like(y_pred)\n",
        "y_test_classes[y_pred>cutoff]=1\n",
        "from sklearn.metrics import confusion_matrix\n",
        "confusion_matrix=confusion_matrix(y_test_classes,y_pred_classes)\n",
        "print(confusion_matrix)\n"
      ],
      "metadata": {
        "colab": {
          "base_uri": "https://localhost:8080/"
        },
        "id": "fWFfw2oAKrQj",
        "outputId": "be4a55f2-60cd-4ef0-ba16-5bdfe7df1572"
      },
      "execution_count": 28,
      "outputs": [
        {
          "output_type": "stream",
          "name": "stdout",
          "text": [
            "[[78]]\n"
          ]
        }
      ]
    },
    {
      "cell_type": "code",
      "metadata": {
        "id": "Ifif1n_ilret",
        "outputId": "98aea829-adf9-4f09-be5d-6f873bc240e6",
        "colab": {
          "base_uri": "https://localhost:8080/",
          "height": 282
        }
      },
      "source": [
        "plt.scatter(X_train,y_train)"
      ],
      "execution_count": 29,
      "outputs": [
        {
          "output_type": "execute_result",
          "data": {
            "text/plain": [
              "<matplotlib.collections.PathCollection at 0x7f03e9af3e10>"
            ]
          },
          "metadata": {},
          "execution_count": 29
        },
        {
          "output_type": "display_data",
          "data": {
            "text/plain": [
              "<Figure size 432x288 with 1 Axes>"
            ],
            "image/png": "[encoded data removed]"
          },
          "metadata": {
            "needs_background": "light"
          }
        }
      ]
    },
    {
      "cell_type": "code",
      "metadata": {
        "id": "QN9K4kgemIDu",
        "outputId": "4123b651-3384-4684-97ad-be1e8c931e8b",
        "colab": {
          "base_uri": "https://localhost:8080/",
          "height": 282
        }
      },
      "source": [
        "plt.scatter(X_test, y_test)\n",
        "plt.plot(X_train, lr.predict(X_train), color = \"r\")\n"
      ],
      "execution_count": 30,
      "outputs": [
        {
          "output_type": "execute_result",
          "data": {
            "text/plain": [
              "[<matplotlib.lines.Line2D at 0x7f03e5b2ca50>]"
            ]
          },
          "metadata": {},
          "execution_count": 30
        },
        {
          "output_type": "display_data",
          "data": {
            "text/plain": [
              "<Figure size 432x288 with 1 Axes>"
            ],
            "image/png": "[encoded data removed]"
          },
          "metadata": {
            "needs_background": "light"
          }
        }
      ]
    },
    {
      "cell_type": "code",
      "source": [
        "import joblib\n",
        "joblib.dump(lr,\"college_mark_predictor.pkl\")"
      ],
      "metadata": {
        "colab": {
          "base_uri": "https://localhost:8080/"
        },
        "id": "iBNTiYS7Exbu",
        "outputId": "c4e8ea28-3bfd-4955-c213-ffc7bffd97ce"
      },
      "execution_count": 31,
      "outputs": [
        {
          "output_type": "execute_result",
          "data": {
            "text/plain": [
              "['college_mark_predictor.pkl']"
            ]
          },
          "metadata": {},
          "execution_count": 31
        }
      ]
    },
    {
      "cell_type": "code",
      "source": [
        "model=joblib.load(\"college_mark_predictor.pkl\")"
      ],
      "metadata": {
        "id": "Cs50p40bFISz"
      },
      "execution_count": 32,
      "outputs": []
    },
    {
      "cell_type": "code",
      "source": [
        "model.predict([[7]])[0][0]\n"
      ],
      "metadata": {
        "colab": {
          "base_uri": "https://localhost:8080/"
        },
        "id": "JxH5MQ7yFXlL",
        "outputId": "4cdba8dc-ba6b-44b6-c247-53c7ae8649c7"
      },
      "execution_count": 33,
      "outputs": [
        {
          "output_type": "stream",
          "name": "stderr",
          "text": [
            "/usr/local/lib/python3.7/dist-packages/sklearn/base.py:451: UserWarning: X does not have valid feature names, but LinearRegression was fitted with feature names\n",
            "  \"X does not have valid feature names, but\"\n"
          ]
        },
        {
          "output_type": "execute_result",
          "data": {
            "text/plain": [
              "69.67283169170535"
            ]
          },
          "metadata": {},
          "execution_count": 33
        }
      ]
    },
    {
      "cell_type": "code",
      "source": [
        "#linear regression\n",
        "pred4  = lr.predict(X_test).sum(axis=1)"
      ],
      "metadata": {
        "id": "djFdf__7QNRQ"
      },
      "execution_count": 34,
      "outputs": []
    },
    {
      "cell_type": "code",
      "source": [
        "#Random_Forest_Regressor\n",
        "from sklearn.ensemble import RandomForestRegressor\n",
        "model1=RandomForestRegressor(n_estimators=500,bootstrap=True,max_depth=50,max_features=0.25,min_samples_leaf=7,min_samples_split=10)\n",
        "model1.fit(X_train,y_train)\n",
        "pred1=model1.predict(X_test)\n",
        "print(pred1)"
      ],
      "metadata": {
        "id": "JhCDK274FiGY",
        "colab": {
          "base_uri": "https://localhost:8080/"
        },
        "outputId": "e22aa9d5-5137-4052-acf5-cb0e28e8d74e"
      },
      "execution_count": 35,
      "outputs": [
        {
          "output_type": "stream",
          "name": "stderr",
          "text": [
            "/usr/local/lib/python3.7/dist-packages/ipykernel_launcher.py:4: DataConversionWarning: A column-vector y was passed when a 1d array was expected. Please change the shape of y to (n_samples,), for example using ravel().\n",
            "  after removing the cwd from sys.path.\n"
          ]
        },
        {
          "output_type": "stream",
          "name": "stdout",
          "text": [
            "[89.04603351 23.70151519 12.45007971 77.9058314  76.54211598 15.77388316\n",
            " 73.88551426 66.57932679 77.9058314  84.5488919  89.4852012  12.24967142\n",
            " 82.86299006 76.4830378  69.11838973 88.21986962 89.22680864 69.7445639\n",
            " 66.30543842 67.05067093 76.36448704 89.4835621  65.19149641 64.2776132\n",
            " 72.84421001 77.10964717 59.03864491 16.76391785 82.81336801 76.381393\n",
            " 84.30827867 22.71736579 88.56916034 82.65125331 12.19161841 16.76391785\n",
            " 12.28438801 73.84842    67.42166894 89.39962409 70.69398831 12.61527072\n",
            " 65.91494475 82.72322133 76.32267951 73.00791985 67.39309029 70.90635206\n",
            " 68.95921397 89.4426719  17.48239212 87.26999809 71.19850271 67.4501649\n",
            " 77.9058314  89.20253568 59.12525232 59.13798425 87.04545897 88.91698157\n",
            " 16.76391785 89.24496329 16.76391785 83.82261697 67.39309029 66.98390714\n",
            " 74.01694356 88.9600867  83.84529836 84.30827867 77.00356186 82.34457062\n",
            " 22.35661794 16.22022713 85.40952716 65.00895158 89.05200814 70.71418499]\n"
          ]
        }
      ]
    },
    {
      "cell_type": "code",
      "source": [
        "#Gradient Boosting Regressor\n",
        "from sklearn.ensemble import GradientBoostingRegressor\n",
        "model2= GradientBoostingRegressor()\n",
        "model2.fit(X_train,y_train)\n",
        "pred2=model2.predict(X_test)\n",
        "print(pred2)\n"
      ],
      "metadata": {
        "colab": {
          "base_uri": "https://localhost:8080/"
        },
        "id": "k_k10Ajo_GjN",
        "outputId": "89c048a1-bd4a-42cc-b2af-19cf2873cf72"
      },
      "execution_count": 36,
      "outputs": [
        {
          "output_type": "stream",
          "name": "stdout",
          "text": [
            "[88.96029698 22.05855254 10.04257593 78.05263588 75.40805015 16.55785709\n",
            " 76.02827335 70.77802876 78.05263588 84.27530343 89.10722767 12.61120688\n",
            " 82.84871446 75.40805015 69.66774076 88.82272453 89.00731611 52.96833715\n",
            " 66.5418645  69.33472786 75.40805015 89.10722767 58.8227082  67.28636454\n",
            " 74.36693758 78.31465309 50.70335963  9.66454189 82.84871446 75.40805015\n",
            " 84.12071886 22.16631746 88.882509   82.84871446 13.10334922  9.66454189\n",
            " 10.04257593 76.02827335 70.77802876 89.0909982  70.02722226 10.04257593\n",
            " 70.18326084 82.84871446 75.5505166  74.43793758 70.54747397 70.21407463\n",
            " 70.02722226 89.10722767 17.92269087 86.44078372 70.21407463 76.40765627\n",
            " 78.05263588 89.00731611 68.588907   50.70335963 86.44078372 88.91844482\n",
            "  9.66454189 89.0289001   9.66454189 83.88163047 70.54747397 69.33472786\n",
            " 76.02827335 88.91844482 83.88163047 84.12071886 78.31465309 81.85015775\n",
            " 22.16631746  9.66454189 85.56868495 59.77696039 88.96029698 70.02722226]\n"
          ]
        },
        {
          "output_type": "stream",
          "name": "stderr",
          "text": [
            "/usr/local/lib/python3.7/dist-packages/sklearn/ensemble/_gb.py:494: DataConversionWarning: A column-vector y was passed when a 1d array was expected. Please change the shape of y to (n_samples, ), for example using ravel().\n",
            "  y = column_or_1d(y, warn=True)\n"
          ]
        }
      ]
    },
    {
      "cell_type": "markdown",
      "source": [
        " **HYPERPARAMETER TUNING **\n"
      ],
      "metadata": {
        "id": "32Q52-sz4jao"
      }
    },
    {
      "cell_type": "code",
      "source": [
        "from sklearn.model_selection import GridSearchCV\n",
        "GBR = GradientBoostingRegressor()\n",
        "parameters = {'learning_rate': [0.01,0.02,0.03,0.04],\n",
        "                  'subsample'    : [0.9, 0.5, 0.2, 0.1],\n",
        "                  'n_estimators' : [100,500,1000, 1500],\n",
        "                  'max_depth'    : [4,6,8,10] }\n",
        "grid_GBR = GridSearchCV(estimator=GBR, param_grid = parameters, cv = 2, n_jobs=-1)\n",
        "grid_GBR.fit(X_train, y_train)\n",
        "print(\" Results from Grid Search \" )\n",
        "print(\"\\n The best estimator across ALL searched params:\\n\",grid_GBR.best_estimator_)\n",
        "print(\"\\n The best score across ALL searched params:\\n\",grid_GBR.best_score_)\n",
        "print(\"\\n The best parameters across ALL searched params:\\n\",grid_GBR.best_params_)"
      ],
      "metadata": {
        "colab": {
          "base_uri": "https://localhost:8080/"
        },
        "id": "YjJJXMeI4YOE",
        "outputId": "81bf8467-09d8-4e27-f141-9d3c102db4fe"
      },
      "execution_count": 37,
      "outputs": [
        {
          "output_type": "stream",
          "name": "stdout",
          "text": [
            " Results from Grid Search \n",
            "\n",
            " The best estimator across ALL searched params:\n",
            " GradientBoostingRegressor(learning_rate=0.02, max_depth=4, subsample=0.2)\n",
            "\n",
            " The best score across ALL searched params:\n",
            " 0.7824871151734969\n",
            "\n",
            " The best parameters across ALL searched params:\n",
            " {'learning_rate': 0.02, 'max_depth': 4, 'n_estimators': 100, 'subsample': 0.2}\n"
          ]
        },
        {
          "output_type": "stream",
          "name": "stderr",
          "text": [
            "/usr/local/lib/python3.7/dist-packages/sklearn/ensemble/_gb.py:494: DataConversionWarning: A column-vector y was passed when a 1d array was expected. Please change the shape of y to (n_samples, ), for example using ravel().\n",
            "  y = column_or_1d(y, warn=True)\n"
          ]
        }
      ]
    },
    {
      "cell_type": "code",
      "source": [
        "#Bayesian Ridge\n",
        "from sklearn.linear_model import BayesianRidge\n",
        "model3=BayesianRidge()\n",
        "model3.fit(X_train,y_train)\n",
        "pred3=model3.predict(X_test)\n",
        "print(pred3)"
      ],
      "metadata": {
        "colab": {
          "base_uri": "https://localhost:8080/"
        },
        "id": "ArauTo_fA_fw",
        "outputId": "6be66c9b-f160-4434-ef42-d24889853f19"
      },
      "execution_count": 38,
      "outputs": [
        {
          "output_type": "stream",
          "name": "stdout",
          "text": [
            "[90.0289563  48.53602818 17.88016612 78.70664847 66.8420116  30.73431561\n",
            " 72.61734005 59.39212334 78.70664847 85.93770221 93.64448317 24.58791993\n",
            " 82.13188445 66.43288619 55.01543291 88.98235642 91.17070163 65.76686808\n",
            " 74.2348126  65.10084998 67.47948608 93.54933773 75.85228515 56.82319635\n",
            " 69.4775404  77.3841268  62.03716668  4.39805671 81.65615723 67.28919519\n",
            " 85.46197499 43.59797963 89.36293819 80.41926646 21.65744025  7.89940905\n",
            " 18.56521332 72.14161283 58.63095979 92.50273785 52.73194226 16.45298446\n",
            " 55.77659647 80.70470279 68.05035874 70.61928573 58.15523257 54.34941481\n",
            " 51.3047606  92.78817418 37.23274943 88.60177464 53.87368759 76.32801237\n",
            " 78.70664847 90.98041074 61.79930307 62.43677755 88.22119287 89.64837453\n",
            "  7.09067277 91.26584707  8.29901991 82.893048   58.15523257 65.00570453\n",
            " 72.36044735 89.93381086 83.08333889 85.46197499 78.04063036 80.03868468\n",
            " 42.36108886 10.40173423 87.55517476 75.56684882 90.12410175 52.92223315]\n"
          ]
        },
        {
          "output_type": "stream",
          "name": "stderr",
          "text": [
            "/usr/local/lib/python3.7/dist-packages/sklearn/utils/validation.py:993: DataConversionWarning: A column-vector y was passed when a 1d array was expected. Please change the shape of y to (n_samples, ), for example using ravel().\n",
            "  y = column_or_1d(y, warn=True)\n"
          ]
        }
      ]
    },
    {
      "cell_type": "code",
      "source": [
        "#accuracy\n",
        "from sklearn.metrics import r2_score\n",
        "ensemble_prediction=(pred1*0.4+pred2*0.4\n",
        "                     +pred3*0.1+pred4*0.1)\n",
        "r2_score_ensemble=r2_score(y_test,ensemble_prediction)\n",
        "print(\"Ensemble MoDEL Accuracy\")\n",
        "print(r2_score_ensemble)\n"
      ],
      "metadata": {
        "colab": {
          "base_uri": "https://localhost:8080/"
        },
        "id": "Nr2sc8APB4rm",
        "outputId": "1b4af6ae-944b-4c31-ed5d-892bc6b11fff"
      },
      "execution_count": 39,
      "outputs": [
        {
          "output_type": "stream",
          "name": "stdout",
          "text": [
            "Ensemble MoDEL Accuracy\n",
            "0.895466030675074\n"
          ]
        }
      ]
    },
    {
      "cell_type": "code",
      "source": [
        "from sklearn.metrics import mean_absolute_error\n",
        "from sklearn.metrics import mean_squared_log_error\n",
        "from sklearn.metrics import explained_variance_score\n",
        "r2_score1=r2_score(y_test,pred1)\n",
        "variance_score1=explained_variance_score(y_test,pred1)\n",
        "mean_absolute_error1=mean_absolute_error(y_test,pred1)\n",
        "mean_squared_log_error1=mean_squared_log_error(y_test,pred1)\n",
        "\n",
        "r2_score2=r2_score(y_test,pred2)\n",
        "variance_score2=explained_variance_score(y_test,pred2)\n",
        "mean_absolute_error2=mean_absolute_error(y_test,pred2)\n",
        "mean_squared_log_error2=mean_squared_log_error(y_test,pred2)\n",
        "\n",
        "r2_score3=r2_score(y_test,pred3)\n",
        "variance_score3=explained_variance_score(y_test,pred3)\n",
        "mean_absolute_error3=mean_absolute_error(y_test,pred3)\n",
        "mean_squared_log_error3=mean_squared_log_error(y_test,pred3)\n",
        "\n",
        "r2_score4=r2_score(y_test,pred4)\n",
        "variance_score4=explained_variance_score(y_test,pred4)\n",
        "mean_absolute_error4=mean_absolute_error(y_test,pred4)\n",
        "mean_squared_log_error4=mean_squared_log_error(y_test,pred4)\n"
      ],
      "metadata": {
        "id": "So75IT_GDGRN"
      },
      "execution_count": 40,
      "outputs": []
    },
    {
      "cell_type": "code",
      "source": [
        "#printing the values\n",
        "print(\"Ranom Forest Regressor Report\")\n",
        "print(\"-> R2 Score:\",r2_score1)\n",
        "print(\"->mean absolute error:\",mean_absolute_error1)\n",
        "print(\"->variance_score:\",variance_score1)\n",
        "print(\"-> mean squared log error:\",mean_squared_log_error1)\n",
        "\n",
        "#gradient Boosting\n",
        "\n",
        "print(\"\\n\")\n",
        "print(\"Gradient Boosting Report\")\n",
        "print(\"-> R2 Score:\",r2_score2)\n",
        "print(\"->mean absolute error:\",mean_absolute_error2)\n",
        "print(\"->variance_score:\",variance_score2)\n",
        "print(\"-> mean squared log error:\",mean_squared_log_error2)\n",
        "\n",
        "#Bayesian Ridge\n",
        "print(\"\\n\")\n",
        "print(\"Bayesian Ridge Report\")\n",
        "print(\"-> R2 Score:\",r2_score3)\n",
        "print(\"->mean absolute error:\",mean_absolute_error3)\n",
        "print(\"->variance_score:\",variance_score3)\n",
        "print(\"-> mean squared log error:\",mean_squared_log_error3)\n",
        "\n",
        "#linear regressor\n",
        "print(\"\\n\")\n",
        "print(\"Linear Regression Report\")\n",
        "print(\"-> R2 Score:\",r2_score4)\n",
        "print(\"->mean absolute error:\",mean_absolute_error4)\n",
        "print(\"->variance_score:\",variance_score4)\n",
        "print(\"-> mean squared log error:\",mean_squared_log_error4)"
      ],
      "metadata": {
        "colab": {
          "base_uri": "https://localhost:8080/"
        },
        "id": "6aXzOQkDHdJr",
        "outputId": "e295adc5-9423-4e76-d298-15222b972d1e"
      },
      "execution_count": 41,
      "outputs": [
        {
          "output_type": "stream",
          "name": "stdout",
          "text": [
            "Ranom Forest Regressor Report\n",
            "-> R2 Score: 0.8969636583812532\n",
            "->mean absolute error: 5.181152184684641\n",
            "->variance_score: 0.8970639329275524\n",
            "-> mean squared log error: 0.06055997246944537\n",
            "\n",
            "\n",
            "Gradient Boosting Report\n",
            "-> R2 Score: 0.8851455670055234\n",
            "->mean absolute error: 4.8197961791467545\n",
            "->variance_score: 0.8852157300620376\n",
            "-> mean squared log error: 0.03855770404561922\n",
            "\n",
            "\n",
            "Bayesian Ridge Report\n",
            "-> R2 Score: 0.815825684186779\n",
            "->mean absolute error: 8.888554638743011\n",
            "->variance_score: 0.8159972494994563\n",
            "-> mean squared log error: 0.10787939404705035\n",
            "\n",
            "\n",
            "Linear Regression Report\n",
            "-> R2 Score: 0.8159074226676759\n",
            "->mean absolute error: 8.889062220544739\n",
            "->variance_score: 0.8160810014668257\n",
            "-> mean squared log error: 0.10784519850935857\n"
          ]
        }
      ]
    },
    {
      "cell_type": "code",
      "source": [
        "plt.bar(pred4,pred1)\n",
        "plt.title('Comparison')\n",
        "plt.xlabel('Linear REgression')\n",
        "plt.ylabel('Random Forest')\n",
        "plt.show()"
      ],
      "metadata": {
        "id": "c_JKtNiInRxF",
        "colab": {
          "base_uri": "https://localhost:8080/",
          "height": 295
        },
        "outputId": "18fb8cff-db0c-416a-aad4-c8568a121054"
      },
      "execution_count": 42,
      "outputs": [
        {
          "output_type": "display_data",
          "data": {
            "text/plain": [
              "<Figure size 432x288 with 1 Axes>"
            ],
            "image/png": "[encoded data removed]"
          },
          "metadata": {
            "needs_background": "light"
          }
        }
      ]
    },
    {
      "cell_type": "code",
      "source": [
        "plt.bar(pred4,pred3)\n",
        "plt.title('Comparison')\n",
        "plt.xlabel('Linear REgression')\n",
        "plt.ylabel('Bayesian Ridge')\n",
        "plt.show()"
      ],
      "metadata": {
        "colab": {
          "base_uri": "https://localhost:8080/",
          "height": 295
        },
        "id": "sb34WHtRiyAv",
        "outputId": "4870e4a2-1e74-4974-bdbe-0f95a5b7dfc2"
      },
      "execution_count": 43,
      "outputs": [
        {
          "output_type": "display_data",
          "data": {
            "text/plain": [
              "<Figure size 432x288 with 1 Axes>"
            ],
            "image/png": "[encoded data removed]"
          },
          "metadata": {
            "needs_background": "light"
          }
        }
      ]
    },
    {
      "cell_type": "code",
      "source": [
        "plt.bar(pred1,pred2)\n",
        "plt.title('Comparison')\n",
        "plt.xlabel('Linear REgression')\n",
        "plt.ylabel('Gradient Boosting')\n",
        "plt.show()"
      ],
      "metadata": {
        "colab": {
          "base_uri": "https://localhost:8080/",
          "height": 295
        },
        "id": "QpX0nBMxkW3c",
        "outputId": "c8c8aadb-9b25-4210-bd86-36b3f02db52e"
      },
      "execution_count": 44,
      "outputs": [
        {
          "output_type": "display_data",
          "data": {
            "text/plain": [
              "<Figure size 432x288 with 1 Axes>"
            ],
            "image/png": "[encoded data removed]"
          },
          "metadata": {
            "needs_background": "light"
          }
        }
      ]
    },
    {
      "cell_type": "code",
      "source": [
        "a=r2_score1\n",
        "b=r2_score4\n",
        "plt.title(\"comparison of r2 score\")\n",
        "plt.bar(b,a)\n",
        "plt.xlabel(\"Linear Regression R2score\")\n",
        "plt.ylabel(\"Random Forest R2score\")\n",
        "plt.grid()\n"
      ],
      "metadata": {
        "colab": {
          "base_uri": "https://localhost:8080/",
          "height": 295
        },
        "id": "09upXidFkxzQ",
        "outputId": "b97006f2-383e-49f8-c10c-09a12645154f"
      },
      "execution_count": 45,
      "outputs": [
        {
          "output_type": "display_data",
          "data": {
            "text/plain": [
              "<Figure size 432x288 with 1 Axes>"
            ],
            "image/png": "[encoded data removed]"
          },
          "metadata": {
            "needs_background": "light"
          }
        }
      ]
    },
    {
      "cell_type": "code",
      "source": [
        "c=mean_absolute_error1\n",
        "d=mean_absolute_error4\n",
        "plt.title(\"comparison of mean absolute error\")\n",
        "plt.bar(d,c)\n",
        "plt.xlabel(\"Linear Regression Mean Absolute Error \")\n",
        "plt.ylabel(\"Random Forest Mean Absolute Error\")\n",
        "plt.grid()\n",
        "plt.show()"
      ],
      "metadata": {
        "colab": {
          "base_uri": "https://localhost:8080/",
          "height": 295
        },
        "id": "3mvpcbniqRkP",
        "outputId": "055f4c1d-2cda-4c98-e069-91d71ee4ecd8"
      },
      "execution_count": 46,
      "outputs": [
        {
          "output_type": "display_data",
          "data": {
            "text/plain": [
              "<Figure size 432x288 with 1 Axes>"
            ],
            "image/png": "[encoded data removed]"
          },
          "metadata": {
            "needs_background": "light"
          }
        }
      ]
    },
    {
      "cell_type": "markdown",
      "source": [
        "**XGBRegressor**\n"
      ],
      "metadata": {
        "id": "Py_kL7cA1t5k"
      }
    },
    {
      "cell_type": "code",
      "source": [
        "import xgboost\n",
        "print(xgboost.__version__)"
      ],
      "metadata": {
        "colab": {
          "base_uri": "https://localhost:8080/"
        },
        "id": "MIbg9GGn14bR",
        "outputId": "2b534548-5b3f-4e3e-a164-2cc3799b5288"
      },
      "execution_count": 47,
      "outputs": [
        {
          "output_type": "stream",
          "name": "stdout",
          "text": [
            "0.90\n"
          ]
        }
      ]
    },
    {
      "cell_type": "code",
      "source": [
        "from xgboost.sklearn import XGBRegressor\n",
        "from pandas import read_csv\n",
        "from numpy import asarray"
      ],
      "metadata": {
        "id": "LFw702LY2GDX"
      },
      "execution_count": 48,
      "outputs": []
    },
    {
      "cell_type": "code",
      "source": [
        "df2.head()"
      ],
      "metadata": {
        "colab": {
          "base_uri": "https://localhost:8080/",
          "height": 206
        },
        "id": "DDJY5lkX29sx",
        "outputId": "838637d7-14e8-4727-85bc-ee2a4bcc15f2"
      },
      "execution_count": 49,
      "outputs": [
        {
          "output_type": "execute_result",
          "data": {
            "text/plain": [
              "   study_hours  student_marks\n",
              "0     6.830000          78.50\n",
              "1     6.560000          76.74\n",
              "2     6.608545          78.68\n",
              "3     5.670000          71.82\n",
              "4     8.670000          84.19"
            ],
            "text/html": [
              "\n",
              "  <div id=\"df-4b955677-fee0-4e4a-904a-011c976e9603\">\n",
              "    <div class=\"colab-df-container\">\n",
              "      <div>\n",
              "<style scoped>\n",
              "    .dataframe tbody tr th:only-of-type {\n",
              "        vertical-align: middle;\n",
              "    }\n",
              "\n",
              "    .dataframe tbody tr th {\n",
              "        vertical-align: top;\n",
              "    }\n",
              "\n",
              "    .dataframe thead th {\n",
              "        text-align: right;\n",
              "    }\n",
              "</style>\n",
              "<table border=\"1\" class=\"dataframe\">\n",
              "  <thead>\n",
              "    <tr style=\"text-align: right;\">\n",
              "      <th></th>\n",
              "      <th>study_hours</th>\n",
              "      <th>student_marks</th>\n",
              "    </tr>\n",
              "  </thead>\n",
              "  <tbody>\n",
              "    <tr>\n",
              "      <th>0</th>\n",
              "      <td>6.830000</td>\n",
              "      <td>78.50</td>\n",
              "    </tr>\n",
              "    <tr>\n",
              "      <th>1</th>\n",
              "      <td>6.560000</td>\n",
              "      <td>76.74</td>\n",
              "    </tr>\n",
              "    <tr>\n",
              "      <th>2</th>\n",
              "      <td>6.608545</td>\n",
              "      <td>78.68</td>\n",
              "    </tr>\n",
              "    <tr>\n",
              "      <th>3</th>\n",
              "      <td>5.670000</td>\n",
              "      <td>71.82</td>\n",
              "    </tr>\n",
              "    <tr>\n",
              "      <th>4</th>\n",
              "      <td>8.670000</td>\n",
              "      <td>84.19</td>\n",
              "    </tr>\n",
              "  </tbody>\n",
              "</table>\n",
              "</div>\n",
              "      <button class=\"colab-df-convert\" onclick=\"convertToInteractive('df-4b955677-fee0-4e4a-904a-011c976e9603')\"\n",
              "              title=\"Convert this dataframe to an interactive table.\"\n",
              "              style=\"display:none;\">\n",
              "        \n",
              "  <svg xmlns=\"http://www.w3.org/2000/svg\" height=\"24px\"viewBox=\"0 0 24 24\"\n",
              "       width=\"24px\">\n",
              "    <path d=\"M0 0h24v24H0V0z\" fill=\"none\"/>\n",
              "    <path d=\"M18.56 5.44l.94 2.06.94-2.06 2.06-.94-2.06-.94-.94-2.06-.94 2.06-2.06.94zm-11 1L8.5 8.5l.94-2.06 2.06-.94-2.06-.94L8.5 2.5l-.94 2.06-2.06.94zm10 10l.94 2.06.94-2.06 2.06-.94-2.06-.94-.94-2.06-.94 2.06-2.06.94z\"/><path d=\"M17.41 7.96l-1.37-1.37c-.4-.4-.92-.59-1.43-.59-.52 0-1.04.2-1.43.59L10.3 9.45l-7.72 7.72c-.78.78-.78 2.05 0 2.83L4 21.41c.39.39.9.59 1.41.59.51 0 1.02-.2 1.41-.59l7.78-7.78 2.81-2.81c.8-.78.8-2.07 0-2.86zM5.41 20L4 18.59l7.72-7.72 1.47 1.35L5.41 20z\"/>\n",
              "  </svg>\n",
              "      </button>\n",
              "      \n",
              "  <style>\n",
              "    .colab-df-container {\n",
              "      display:flex;\n",
              "      flex-wrap:wrap;\n",
              "      gap: 12px;\n",
              "    }\n",
              "\n",
              "    .colab-df-convert {\n",
              "      background-color: #E8F0FE;\n",
              "      border: none;\n",
              "      border-radius: 50%;\n",
              "      cursor: pointer;\n",
              "      display: none;\n",
              "      fill: #1967D2;\n",
              "      height: 32px;\n",
              "      padding: 0 0 0 0;\n",
              "      width: 32px;\n",
              "    }\n",
              "\n",
              "    .colab-df-convert:hover {\n",
              "      background-color: #E2EBFA;\n",
              "      box-shadow: 0px 1px 2px rgba(60, 64, 67, 0.3), 0px 1px 3px 1px rgba(60, 64, 67, 0.15);\n",
              "      fill: #174EA6;\n",
              "    }\n",
              "\n",
              "    [theme=dark] .colab-df-convert {\n",
              "      background-color: #3B4455;\n",
              "      fill: #D2E3FC;\n",
              "    }\n",
              "\n",
              "    [theme=dark] .colab-df-convert:hover {\n",
              "      background-color: #434B5C;\n",
              "      box-shadow: 0px 1px 3px 1px rgba(0, 0, 0, 0.15);\n",
              "      filter: drop-shadow(0px 1px 2px rgba(0, 0, 0, 0.3));\n",
              "      fill: #FFFFFF;\n",
              "    }\n",
              "  </style>\n",
              "\n",
              "      <script>\n",
              "        const buttonEl =\n",
              "          document.querySelector('#df-4b955677-fee0-4e4a-904a-011c976e9603 button.colab-df-convert');\n",
              "        buttonEl.style.display =\n",
              "          google.colab.kernel.accessAllowed ? 'block' : 'none';\n",
              "\n",
              "        async function convertToInteractive(key) {\n",
              "          const element = document.querySelector('#df-4b955677-fee0-4e4a-904a-011c976e9603');\n",
              "          const dataTable =\n",
              "            await google.colab.kernel.invokeFunction('convertToInteractive',\n",
              "                                                     [key], {});\n",
              "          if (!dataTable) return;\n",
              "\n",
              "          const docLinkHtml = 'Like what you see? Visit the ' +\n",
              "            '<a target=\"_blank\" href=https://colab.research.google.com/notebooks/data_table.ipynb>data table notebook</a>'\n",
              "            + ' to learn more about interactive tables.';\n",
              "          element.innerHTML = '';\n",
              "          dataTable['output_type'] = 'display_data';\n",
              "          await google.colab.output.renderOutput(dataTable, element);\n",
              "          const docLink = document.createElement('div');\n",
              "          docLink.innerHTML = docLinkHtml;\n",
              "          element.appendChild(docLink);\n",
              "        }\n",
              "      </script>\n",
              "    </div>\n",
              "  </div>\n",
              "  "
            ]
          },
          "metadata": {},
          "execution_count": 49
        }
      ]
    },
    {
      "cell_type": "code",
      "source": [
        "from sklearn.model_selection import RepeatedKFold\n",
        "\n",
        "dataframe=read_csv(\"/content/dset.csv\",header=0)\n",
        "data=dataframe.values\n",
        "#split dataset \n",
        "A, b=data[:, :-1],data[:, -1]\n",
        "tech=XGBRegressor()\n",
        "#define model evaluation method\n",
        "cv= RepeatedKFold(n_splits=10,n_repeats=3,random_state=1)\n"
      ],
      "metadata": {
        "id": "lFQhI8Xz3kkK"
      },
      "execution_count": 51,
      "outputs": []
    },
    {
      "cell_type": "code",
      "source": [
        "# summarize shape\n",
        "print(dataframe.shape)\n",
        "# summarize first few lines\n",
        "print(dataframe.head())\n"
      ],
      "metadata": {
        "colab": {
          "base_uri": "https://localhost:8080/"
        },
        "id": "bZZhGP_d4lzi",
        "outputId": "1ad51597-4812-4250-dea2-247f67d00f33"
      },
      "execution_count": 52,
      "outputs": [
        {
          "output_type": "stream",
          "name": "stdout",
          "text": [
            "(387, 2)\n",
            "   study_hours  student_marks\n",
            "0         6.83          78.50\n",
            "1         6.56          76.74\n",
            "2          NaN          78.68\n",
            "3         5.67          71.82\n",
            "4         8.67          84.19\n"
          ]
        }
      ]
    },
    {
      "cell_type": "code",
      "source": [
        "#fitting model\n",
        "tech.fit(A, b)\n"
      ],
      "metadata": {
        "colab": {
          "base_uri": "https://localhost:8080/"
        },
        "id": "NjENSQliDV4D",
        "outputId": "319a4349-ba97-4f7a-dc6c-3472a815be9d"
      },
      "execution_count": 53,
      "outputs": [
        {
          "output_type": "stream",
          "name": "stdout",
          "text": [
            "[04:01:06] WARNING: /workspace/src/objective/regression_obj.cu:152: reg:linear is now deprecated in favor of reg:squarederror.\n"
          ]
        },
        {
          "output_type": "execute_result",
          "data": {
            "text/plain": [
              "XGBRegressor()"
            ]
          },
          "metadata": {},
          "execution_count": 53
        }
      ]
    },
    {
      "cell_type": "code",
      "source": [
        "from sklearn.model_selection import train_test_split\n",
        "\n",
        "A_train, A_test, b_train, b_test = train_test_split(A, b)\n",
        "tech= XGBRegressor()\n",
        "tech.fit(A_train,b_train)\n",
        "pred5=tech.predict(A_test)\n",
        "print(pred5)"
      ],
      "metadata": {
        "colab": {
          "base_uri": "https://localhost:8080/"
        },
        "id": "ZNlVeQUIMwGD",
        "outputId": "14f61620-f72a-4cc2-a7f0-b5aea0cc896e"
      },
      "execution_count": 54,
      "outputs": [
        {
          "output_type": "stream",
          "name": "stdout",
          "text": [
            "[04:01:10] WARNING: /workspace/src/objective/regression_obj.cu:152: reg:linear is now deprecated in favor of reg:squarederror.\n",
            "[12.418741 82.826706 76.71983  84.639305 89.02195  89.02195  72.02018\n",
            " 88.9249   72.0154    9.958003 89.02195  71.61751  88.9249   83.25523\n",
            " 70.02389  83.25523   8.865538 72.0154   89.02195  34.48013  84.10002\n",
            " 84.65437  82.30389  84.504684 70.276276 70.391235 88.81256  74.03107\n",
            " 78.67732  12.418741 89.02195  18.320934 84.17231  68.178604 89.02195\n",
            " 71.15669  88.85453  21.858252 89.02195  88.987976 74.03107  83.25523\n",
            " 88.81256  85.91288  89.02195  22.483068 71.72464  88.96712  73.61937\n",
            " 70.02389  71.15669  74.437096 89.02195  84.504684 71.72464  17.814373\n",
            " 89.02195  72.02018  73.61937  89.02195  68.178604 71.15669  74.03107\n",
            " 70.02389   8.865538 10.073894 89.02195   9.491025 21.858252 45.10267\n",
            " 70.34099  68.49199  85.904205 82.84858  68.178604 89.02195  68.49199\n",
            " 89.02195  83.25523  78.922615 70.35848  83.25523  51.007587  8.865538\n",
            " 88.96712  57.128674 18.320934 85.904205 74.437096 71.61751   9.95746\n",
            " 70.35848  74.437096 84.504684 70.02389  74.437096  9.491025]\n"
          ]
        }
      ]
    },
    {
      "cell_type": "code",
      "source": [
        "# define new data\n",
        "row = [8]\n",
        "new_data = asarray([row])\n",
        "# make a prediction\n",
        "yhat = tech.predict(new_data)\n",
        "# summarize prediction\n",
        "print('Predicted: %.3f' % yhat)"
      ],
      "metadata": {
        "colab": {
          "base_uri": "https://localhost:8080/"
        },
        "id": "kIbOORfEDhmK",
        "outputId": "75b59464-4bef-4675-fc1a-55dec0f5117f"
      },
      "execution_count": 55,
      "outputs": [
        {
          "output_type": "stream",
          "name": "stdout",
          "text": [
            "Predicted: 81.811\n"
          ]
        }
      ]
    },
    {
      "cell_type": "code",
      "source": [
        "r2_score5=r2_score(b_test,pred5)\n",
        "variance_score5=explained_variance_score(b_test,pred5)\n",
        "mean_absolute_error5=mean_absolute_error(b_test,pred5)\n",
        "mean_squared_log_error5=mean_squared_log_error(b_test,pred5)"
      ],
      "metadata": {
        "id": "XWg-mfhtJ4Uh"
      },
      "execution_count": 56,
      "outputs": []
    },
    {
      "cell_type": "code",
      "source": [
        "#printing the values\n",
        "print(\"EXTREME GRADIENT BOOSTING  Regressor Report\")\n",
        "print(\"-> R2 Score:\",r2_score5)\n",
        "print(\"->mean absolute error:\",mean_absolute_error5)\n",
        "print(\"->variance_score:\",variance_score5)\n",
        "print(\"-> mean squared log error:\",mean_squared_log_error5)"
      ],
      "metadata": {
        "colab": {
          "base_uri": "https://localhost:8080/"
        },
        "id": "G5IvpxI_K1SZ",
        "outputId": "d6fea282-7cb9-4607-99a0-285efa943e66"
      },
      "execution_count": 57,
      "outputs": [
        {
          "output_type": "stream",
          "name": "stdout",
          "text": [
            "EXTREME GRADIENT BOOSTING  Regressor Report\n",
            "-> R2 Score: 0.7670594822220403\n",
            "->mean absolute error: 5.758534941525803\n",
            "->variance_score: 0.7703124288956388\n",
            "-> mean squared log error: 0.08556883709050551\n"
          ]
        }
      ]
    }
  ]
}